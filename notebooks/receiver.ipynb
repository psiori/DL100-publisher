{
 "cells": [
  {
   "cell_type": "code",
   "execution_count": 1,
   "metadata": {},
   "outputs": [],
   "source": [
    "import struct\n",
    "import sys\n",
    "import zmq\n",
    "import datetime\n",
    "\n",
    "import sys\n",
    "sys.path.append(\"..\")"
   ]
  },
  {
   "cell_type": "code",
   "execution_count": 2,
   "metadata": {},
   "outputs": [
    {
     "name": "stdout",
     "output_type": "stream",
     "text": [
      "Collecting updates from server...\n",
      "tcp://localhost:2000\n"
     ]
    }
   ],
   "source": [
    "# Socket to talk to server\n",
    "context = zmq.Context()\n",
    "socket = context.socket(zmq.SUB)\n",
    "\n",
    "print(\"Collecting updates from server...\")\n",
    "host = \"localhost\"\n",
    "conn_str = \"tcp://{host}:{port}\".format(\n",
    "    host=host, port=2000)\n",
    "print(conn_str)\n",
    "socket.connect (conn_str)\n"
   ]
  },
  {
   "cell_type": "code",
   "execution_count": 3,
   "metadata": {},
   "outputs": [
    {
     "name": "stdout",
     "output_type": "stream",
     "text": [
      "2020-02-06 12:20:40.386536 2 1\n",
      "2020-02-06 12:20:40.386689 1 2604\n",
      "2020-02-06 12:20:41.387912 2 1\n",
      "2020-02-06 12:20:41.388029 1 2605\n"
     ]
    }
   ],
   "source": [
    "# Subscribe to zipcode, default is NYC, 10001\n",
    "# topicfilter = \"\"  # \"10001\"\n",
    "socket.setsockopt_string(zmq.SUBSCRIBE, '')  # , topicfilter)\n",
    "\n",
    "try:\n",
    "    while True:\n",
    "        string = socket.recv()\n",
    "        response = struct.unpack('>dii', string)\n",
    "        # print(response)\n",
    "\n",
    "\n",
    "        ts, distance, velocity = response\n",
    "        ts = datetime.datetime.fromtimestamp(ts)\n",
    "\n",
    "        print(ts, distance, velocity)\n",
    "except KeyboardInterrupt:\n",
    "    pass\n",
    "    \n",
    "    \n",
    "\n",
    "      "
   ]
  },
  {
   "cell_type": "code",
   "execution_count": null,
   "metadata": {},
   "outputs": [],
   "source": []
  }
 ],
 "metadata": {
  "kernelspec": {
   "display_name": "Python 3",
   "language": "python",
   "name": "python3"
  },
  "language_info": {
   "codemirror_mode": {
    "name": "ipython",
    "version": 3
   },
   "file_extension": ".py",
   "mimetype": "text/x-python",
   "name": "python",
   "nbconvert_exporter": "python",
   "pygments_lexer": "ipython3",
   "version": "3.7.4"
  }
 },
 "nbformat": 4,
 "nbformat_minor": 4
}
